{
  "nbformat": 4,
  "nbformat_minor": 0,
  "metadata": {
    "colab": {
      "provenance": []
    },
    "kernelspec": {
      "name": "python3",
      "display_name": "Python 3"
    },
    "language_info": {
      "name": "python"
    }
  },
  "cells": [
    {
      "cell_type": "code",
      "execution_count": null,
      "metadata": {
        "id": "HlWn6R5JSaZ1"
      },
      "outputs": [],
      "source": [
        "import numpy as np\n",
        "import tensorflow as tf\n",
        "from tensorflow.keras.datasets import imdb\n",
        "from tensorflow.keras.preprocessing.sequence import pad_sequences\n",
        "from tensorflow.keras.models import Sequential\n",
        "from tensorflow.keras.layers import Embedding, Bidirectional, LSTM, Dense"
      ]
    },
    {
      "cell_type": "code",
      "source": [
        "(x_train,y_train),(x_test,y_test)=imdb.load_data(num_words=10000)\n",
        "print(f'train dataset size: {len(x_train)}')\n",
        "print(f'test dataset size: {len(x_test)}')"
      ],
      "metadata": {
        "colab": {
          "base_uri": "https://localhost:8080/"
        },
        "id": "tbAqjfOQT38P",
        "outputId": "07bfe583-ec18-4e6f-bbb7-286b4c19dbb7"
      },
      "execution_count": null,
      "outputs": [
        {
          "output_type": "stream",
          "name": "stdout",
          "text": [
            "Downloading data from https://storage.googleapis.com/tensorflow/tf-keras-datasets/imdb.npz\n",
            "17464789/17464789 [==============================] - 0s 0us/step\n",
            "train dataset size: 25000\n",
            "test dataset size: 25000\n"
          ]
        }
      ]
    },
    {
      "cell_type": "code",
      "source": [
        "max_len =250\n",
        "x_train=pad_sequences(x_train,maxlen=max_len)\n",
        "x_test=pad_sequences(x_test,maxlen=max_len)\n",
        "print(f'train size: {x_train.shape}')\n",
        "print(f'test size: {x_test.shape}')"
      ],
      "metadata": {
        "colab": {
          "base_uri": "https://localhost:8080/"
        },
        "id": "X_3aS2hwUAAJ",
        "outputId": "17fcc2e0-5b83-4430-9347-2286bde271ed"
      },
      "execution_count": null,
      "outputs": [
        {
          "output_type": "stream",
          "name": "stdout",
          "text": [
            "train size: (25000, 250)\n",
            "test size: (25000, 250)\n"
          ]
        }
      ]
    },
    {
      "cell_type": "code",
      "source": [
        "model=Sequential()\n",
        "model.add(Embedding(input_dim=10000,output_dim=128,input_length=max_len))\n",
        "model.add(Bidirectional(LSTM(64,return_sequences=True)))\n",
        "model.add(Bidirectional(LSTM(32)))\n",
        "model.add(Dense(1,activation='sigmoid'))\n",
        "model.summary()\n",
        "     "
      ],
      "metadata": {
        "colab": {
          "base_uri": "https://localhost:8080/"
        },
        "id": "zESJ9XfdUFI8",
        "outputId": "68537558-a2e8-4a3b-cfac-ea5c841c1817"
      },
      "execution_count": null,
      "outputs": [
        {
          "output_type": "stream",
          "name": "stdout",
          "text": [
            "Model: \"sequential\"\n",
            "_________________________________________________________________\n",
            " Layer (type)                Output Shape              Param #   \n",
            "=================================================================\n",
            " embedding (Embedding)       (None, 250, 128)          1280000   \n",
            "                                                                 \n",
            " bidirectional (Bidirectiona  (None, 250, 128)         98816     \n",
            " l)                                                              \n",
            "                                                                 \n",
            " bidirectional_1 (Bidirectio  (None, 64)               41216     \n",
            " nal)                                                            \n",
            "                                                                 \n",
            " dense (Dense)               (None, 1)                 65        \n",
            "                                                                 \n",
            "=================================================================\n",
            "Total params: 1,420,097\n",
            "Trainable params: 1,420,097\n",
            "Non-trainable params: 0\n",
            "_________________________________________________________________\n"
          ]
        }
      ]
    },
    {
      "cell_type": "code",
      "source": [
        "model.compile(loss='binary_crossentropy',optimizer='adam',metrics=['accuracy'])"
      ],
      "metadata": {
        "id": "HR6VzoSuUKOF"
      },
      "execution_count": null,
      "outputs": []
    },
    {
      "cell_type": "code",
      "source": [
        "history = model.fit(x_train,y_train,epochs=3,batch_size=150,validation_split=0.2)"
      ],
      "metadata": {
        "colab": {
          "base_uri": "https://localhost:8080/"
        },
        "id": "vGfhHg9ZUObg",
        "outputId": "317c14af-b886-4563-9322-2a808d078955"
      },
      "execution_count": null,
      "outputs": [
        {
          "output_type": "stream",
          "name": "stdout",
          "text": [
            "Epoch 1/3\n",
            "134/134 [==============================] - 291s 2s/step - loss: 0.4534 - accuracy: 0.7703 - val_loss: 0.3416 - val_accuracy: 0.8612\n",
            "Epoch 2/3\n",
            "134/134 [==============================] - 280s 2s/step - loss: 0.2326 - accuracy: 0.9108 - val_loss: 0.2982 - val_accuracy: 0.8754\n",
            "Epoch 3/3\n",
            "134/134 [==============================] - 274s 2s/step - loss: 0.1513 - accuracy: 0.9466 - val_loss: 0.3403 - val_accuracy: 0.8656\n"
          ]
        }
      ]
    },
    {
      "cell_type": "code",
      "source": [
        "loss,acc=model.evaluate(x_test,y_test,batch_size=64)\n",
        "print(f\"test Accuracy: {acc:4f},test loss: {loss:4f}\")"
      ],
      "metadata": {
        "colab": {
          "base_uri": "https://localhost:8080/"
        },
        "id": "AoSEcBB1UTU6",
        "outputId": "b2e674f6-592c-4ace-cc13-b1ea2818179d"
      },
      "execution_count": null,
      "outputs": [
        {
          "output_type": "stream",
          "name": "stdout",
          "text": [
            "391/391 [==============================] - 107s 273ms/step - loss: 0.3439 - accuracy: 0.8612\n",
            "test Accuracy: 0.861240,test loss: 0.343910\n"
          ]
        }
      ]
    }
  ]
}