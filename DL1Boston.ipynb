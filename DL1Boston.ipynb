{
  "nbformat": 4,
  "nbformat_minor": 0,
  "metadata": {
    "colab": {
      "provenance": []
    },
    "kernelspec": {
      "name": "python3",
      "display_name": "Python 3"
    },
    "language_info": {
      "name": "python"
    }
  },
  "cells": [
    {
      "cell_type": "code",
      "execution_count": null,
      "metadata": {
        "id": "xpupfoHfZlia"
      },
      "outputs": [],
      "source": [
        "import numpy as np\n",
        "import pandas as pd\n",
        "from sklearn.model_selection import train_test_split\n",
        "from sklearn.preprocessing import StandardScaler\n",
        "from sklearn.metrics import mean_squared_error\n",
        "from tensorflow.keras.datasets import boston_housing\n",
        "import tensorflow as tf\n",
        "from tensorflow.keras.models import Sequential\n",
        "from tensorflow.keras.layers import Dense"
      ]
    },
    {
      "cell_type": "code",
      "source": [
        "# Load the Boston Housing dataset\n",
        "(X_train, y_train), (X_test, y_test) = boston_housing.load_data()\n",
        "\n",
        "# Scale the features using StandardScaler\n",
        "scaler = StandardScaler()\n",
        "X_train = scaler.fit_transform(X_train)\n",
        "X_test = scaler.transform(X_test)"
      ],
      "metadata": {
        "colab": {
          "base_uri": "https://localhost:8080/"
        },
        "id": "ac-XIfAFZuof",
        "outputId": "5a032e82-d73a-4ea7-fd8b-49c9eabca05b"
      },
      "execution_count": null,
      "outputs": [
        {
          "output_type": "stream",
          "name": "stdout",
          "text": [
            "Downloading data from https://storage.googleapis.com/tensorflow/tf-keras-datasets/boston_housing.npz\n",
            "57026/57026 [==============================] - 0s 0us/step\n"
          ]
        }
      ]
    },
    {
      "cell_type": "code",
      "source": [
        "model = Sequential()\n",
        "model.add(Dense(64, activation='relu', input_shape=(X_train.shape[1],)))\n",
        "model.add(Dense(64, activation='relu'))\n",
        "model.add(Dense(1))\n",
        "\n",
        "# Compile the model\n",
        "model.compile(optimizer='adam', loss='mean_squared_error')"
      ],
      "metadata": {
        "id": "rddxMBYrZyfq"
      },
      "execution_count": null,
      "outputs": []
    },
    {
      "cell_type": "code",
      "source": [
        "history = model.fit(X_train, y_train, epochs=100, batch_size=32, validation_split=0.2)"
      ],
      "metadata": {
        "colab": {
          "base_uri": "https://localhost:8080/"
        },
        "id": "YNehcV2_Z2tC",
        "outputId": "16e3294b-a201-470e-c2b3-78ca4d6215f4"
      },
      "execution_count": null,
      "outputs": [
        {
          "output_type": "stream",
          "name": "stdout",
          "text": [
            "Epoch 1/100\n",
            "11/11 [==============================] - 1s 21ms/step - loss: 551.9290 - val_loss: 596.8314\n",
            "Epoch 2/100\n",
            "11/11 [==============================] - 0s 5ms/step - loss: 509.6866 - val_loss: 547.8499\n",
            "Epoch 3/100\n",
            "11/11 [==============================] - 0s 6ms/step - loss: 458.8044 - val_loss: 485.3395\n",
            "Epoch 4/100\n",
            "11/11 [==============================] - 0s 7ms/step - loss: 393.3736 - val_loss: 404.0383\n",
            "Epoch 5/100\n",
            "11/11 [==============================] - 0s 5ms/step - loss: 312.9943 - val_loss: 309.0899\n",
            "Epoch 6/100\n",
            "11/11 [==============================] - 0s 6ms/step - loss: 226.3282 - val_loss: 210.6662\n",
            "Epoch 7/100\n",
            "11/11 [==============================] - 0s 6ms/step - loss: 143.0754 - val_loss: 130.3610\n",
            "Epoch 8/100\n",
            "11/11 [==============================] - 0s 7ms/step - loss: 85.1671 - val_loss: 84.8788\n",
            "Epoch 9/100\n",
            "11/11 [==============================] - 0s 6ms/step - loss: 59.2985 - val_loss: 65.7428\n",
            "Epoch 10/100\n",
            "11/11 [==============================] - 0s 5ms/step - loss: 48.0746 - val_loss: 53.5497\n",
            "Epoch 11/100\n",
            "11/11 [==============================] - 0s 7ms/step - loss: 39.5923 - val_loss: 44.2594\n",
            "Epoch 12/100\n",
            "11/11 [==============================] - 0s 5ms/step - loss: 33.5976 - val_loss: 37.4079\n",
            "Epoch 13/100\n",
            "11/11 [==============================] - 0s 5ms/step - loss: 29.6452 - val_loss: 32.3899\n",
            "Epoch 14/100\n",
            "11/11 [==============================] - 0s 7ms/step - loss: 26.9310 - val_loss: 28.9244\n",
            "Epoch 15/100\n",
            "11/11 [==============================] - 0s 7ms/step - loss: 24.7449 - val_loss: 26.4745\n",
            "Epoch 16/100\n",
            "11/11 [==============================] - 0s 5ms/step - loss: 23.0943 - val_loss: 23.6516\n",
            "Epoch 17/100\n",
            "11/11 [==============================] - 0s 8ms/step - loss: 21.4934 - val_loss: 22.1846\n",
            "Epoch 18/100\n",
            "11/11 [==============================] - 0s 6ms/step - loss: 20.6270 - val_loss: 21.1155\n",
            "Epoch 19/100\n",
            "11/11 [==============================] - 0s 5ms/step - loss: 19.7768 - val_loss: 20.2662\n",
            "Epoch 20/100\n",
            "11/11 [==============================] - 0s 5ms/step - loss: 18.7977 - val_loss: 19.9451\n",
            "Epoch 21/100\n",
            "11/11 [==============================] - 0s 7ms/step - loss: 18.1786 - val_loss: 19.0983\n",
            "Epoch 22/100\n",
            "11/11 [==============================] - 0s 6ms/step - loss: 17.4783 - val_loss: 18.5429\n",
            "Epoch 23/100\n",
            "11/11 [==============================] - 0s 7ms/step - loss: 16.8503 - val_loss: 18.1725\n",
            "Epoch 24/100\n",
            "11/11 [==============================] - 0s 7ms/step - loss: 16.2933 - val_loss: 17.5658\n",
            "Epoch 25/100\n",
            "11/11 [==============================] - 0s 7ms/step - loss: 15.8311 - val_loss: 18.1276\n",
            "Epoch 26/100\n",
            "11/11 [==============================] - 0s 6ms/step - loss: 15.8070 - val_loss: 17.4298\n",
            "Epoch 27/100\n",
            "11/11 [==============================] - 0s 8ms/step - loss: 14.8873 - val_loss: 17.0270\n",
            "Epoch 28/100\n",
            "11/11 [==============================] - 0s 5ms/step - loss: 14.3941 - val_loss: 16.9705\n",
            "Epoch 29/100\n",
            "11/11 [==============================] - 0s 8ms/step - loss: 14.0523 - val_loss: 16.7859\n",
            "Epoch 30/100\n",
            "11/11 [==============================] - 0s 7ms/step - loss: 13.8889 - val_loss: 16.7642\n",
            "Epoch 31/100\n",
            "11/11 [==============================] - 0s 6ms/step - loss: 13.6732 - val_loss: 16.4625\n",
            "Epoch 32/100\n",
            "11/11 [==============================] - 0s 5ms/step - loss: 13.3045 - val_loss: 16.0236\n",
            "Epoch 33/100\n",
            "11/11 [==============================] - 0s 6ms/step - loss: 13.0585 - val_loss: 15.8470\n",
            "Epoch 34/100\n",
            "11/11 [==============================] - 0s 7ms/step - loss: 12.8332 - val_loss: 15.7342\n",
            "Epoch 35/100\n",
            "11/11 [==============================] - 0s 6ms/step - loss: 12.5975 - val_loss: 15.5225\n",
            "Epoch 36/100\n",
            "11/11 [==============================] - 0s 5ms/step - loss: 12.3985 - val_loss: 15.4887\n",
            "Epoch 37/100\n",
            "11/11 [==============================] - 0s 6ms/step - loss: 12.1856 - val_loss: 15.1045\n",
            "Epoch 38/100\n",
            "11/11 [==============================] - 0s 8ms/step - loss: 12.1120 - val_loss: 15.1147\n",
            "Epoch 39/100\n",
            "11/11 [==============================] - 0s 6ms/step - loss: 11.8289 - val_loss: 15.1850\n",
            "Epoch 40/100\n",
            "11/11 [==============================] - 0s 6ms/step - loss: 11.6985 - val_loss: 14.9481\n",
            "Epoch 41/100\n",
            "11/11 [==============================] - 0s 5ms/step - loss: 11.5214 - val_loss: 14.8212\n",
            "Epoch 42/100\n",
            "11/11 [==============================] - 0s 5ms/step - loss: 11.3675 - val_loss: 14.8332\n",
            "Epoch 43/100\n",
            "11/11 [==============================] - 0s 5ms/step - loss: 11.1447 - val_loss: 14.8409\n",
            "Epoch 44/100\n",
            "11/11 [==============================] - 0s 5ms/step - loss: 11.0233 - val_loss: 14.7538\n",
            "Epoch 45/100\n",
            "11/11 [==============================] - 0s 6ms/step - loss: 10.9697 - val_loss: 15.0858\n",
            "Epoch 46/100\n",
            "11/11 [==============================] - 0s 6ms/step - loss: 10.7660 - val_loss: 14.7090\n",
            "Epoch 47/100\n",
            "11/11 [==============================] - 0s 6ms/step - loss: 10.7248 - val_loss: 14.6321\n",
            "Epoch 48/100\n",
            "11/11 [==============================] - 0s 6ms/step - loss: 10.6228 - val_loss: 14.4344\n",
            "Epoch 49/100\n",
            "11/11 [==============================] - 0s 7ms/step - loss: 10.6728 - val_loss: 14.4434\n",
            "Epoch 50/100\n",
            "11/11 [==============================] - 0s 5ms/step - loss: 10.3772 - val_loss: 14.2837\n",
            "Epoch 51/100\n",
            "11/11 [==============================] - 0s 7ms/step - loss: 10.3150 - val_loss: 14.4630\n",
            "Epoch 52/100\n",
            "11/11 [==============================] - 0s 7ms/step - loss: 10.2709 - val_loss: 14.6448\n",
            "Epoch 53/100\n",
            "11/11 [==============================] - 0s 7ms/step - loss: 10.0966 - val_loss: 14.5481\n",
            "Epoch 54/100\n",
            "11/11 [==============================] - 0s 6ms/step - loss: 10.1099 - val_loss: 15.1098\n",
            "Epoch 55/100\n",
            "11/11 [==============================] - 0s 5ms/step - loss: 10.0104 - val_loss: 14.8013\n",
            "Epoch 56/100\n",
            "11/11 [==============================] - 0s 6ms/step - loss: 9.8000 - val_loss: 14.7363\n",
            "Epoch 57/100\n",
            "11/11 [==============================] - 0s 6ms/step - loss: 9.9962 - val_loss: 16.7549\n",
            "Epoch 58/100\n",
            "11/11 [==============================] - 0s 7ms/step - loss: 9.8256 - val_loss: 16.3655\n",
            "Epoch 59/100\n",
            "11/11 [==============================] - 0s 9ms/step - loss: 9.5856 - val_loss: 15.5072\n",
            "Epoch 60/100\n",
            "11/11 [==============================] - 0s 6ms/step - loss: 9.6395 - val_loss: 15.3428\n",
            "Epoch 61/100\n",
            "11/11 [==============================] - 0s 5ms/step - loss: 9.7691 - val_loss: 16.3691\n",
            "Epoch 62/100\n",
            "11/11 [==============================] - 0s 6ms/step - loss: 9.3958 - val_loss: 15.5786\n",
            "Epoch 63/100\n",
            "11/11 [==============================] - 0s 6ms/step - loss: 9.3197 - val_loss: 15.3556\n",
            "Epoch 64/100\n",
            "11/11 [==============================] - 0s 7ms/step - loss: 9.2483 - val_loss: 15.4350\n",
            "Epoch 65/100\n",
            "11/11 [==============================] - 0s 6ms/step - loss: 9.1740 - val_loss: 15.2843\n",
            "Epoch 66/100\n",
            "11/11 [==============================] - 0s 7ms/step - loss: 9.2377 - val_loss: 14.7479\n",
            "Epoch 67/100\n",
            "11/11 [==============================] - 0s 7ms/step - loss: 9.2029 - val_loss: 15.4631\n",
            "Epoch 68/100\n",
            "11/11 [==============================] - 0s 5ms/step - loss: 9.1114 - val_loss: 15.0800\n",
            "Epoch 69/100\n",
            "11/11 [==============================] - 0s 7ms/step - loss: 9.0915 - val_loss: 14.6328\n",
            "Epoch 70/100\n",
            "11/11 [==============================] - 0s 5ms/step - loss: 8.9108 - val_loss: 14.7682\n",
            "Epoch 71/100\n",
            "11/11 [==============================] - 0s 7ms/step - loss: 8.7876 - val_loss: 14.7564\n",
            "Epoch 72/100\n",
            "11/11 [==============================] - 0s 6ms/step - loss: 9.0103 - val_loss: 14.8837\n",
            "Epoch 73/100\n",
            "11/11 [==============================] - 0s 7ms/step - loss: 8.9065 - val_loss: 14.9882\n",
            "Epoch 74/100\n",
            "11/11 [==============================] - 0s 6ms/step - loss: 8.8528 - val_loss: 15.3784\n",
            "Epoch 75/100\n",
            "11/11 [==============================] - 0s 7ms/step - loss: 8.5820 - val_loss: 14.4748\n",
            "Epoch 76/100\n",
            "11/11 [==============================] - 0s 5ms/step - loss: 8.6393 - val_loss: 14.2775\n",
            "Epoch 77/100\n",
            "11/11 [==============================] - 0s 5ms/step - loss: 8.5353 - val_loss: 14.6227\n",
            "Epoch 78/100\n",
            "11/11 [==============================] - 0s 5ms/step - loss: 8.5124 - val_loss: 14.2965\n",
            "Epoch 79/100\n",
            "11/11 [==============================] - 0s 6ms/step - loss: 8.3763 - val_loss: 14.1128\n",
            "Epoch 80/100\n",
            "11/11 [==============================] - 0s 7ms/step - loss: 8.4451 - val_loss: 14.5317\n",
            "Epoch 81/100\n",
            "11/11 [==============================] - 0s 5ms/step - loss: 8.3161 - val_loss: 14.2803\n",
            "Epoch 82/100\n",
            "11/11 [==============================] - 0s 6ms/step - loss: 8.2959 - val_loss: 14.5790\n",
            "Epoch 83/100\n",
            "11/11 [==============================] - 0s 7ms/step - loss: 8.3398 - val_loss: 14.2049\n",
            "Epoch 84/100\n",
            "11/11 [==============================] - 0s 7ms/step - loss: 8.2529 - val_loss: 14.2218\n",
            "Epoch 85/100\n",
            "11/11 [==============================] - 0s 6ms/step - loss: 8.2225 - val_loss: 14.1277\n",
            "Epoch 86/100\n",
            "11/11 [==============================] - 0s 7ms/step - loss: 8.1403 - val_loss: 14.1962\n",
            "Epoch 87/100\n",
            "11/11 [==============================] - 0s 6ms/step - loss: 7.9867 - val_loss: 14.6123\n",
            "Epoch 88/100\n",
            "11/11 [==============================] - 0s 5ms/step - loss: 8.0977 - val_loss: 14.6608\n",
            "Epoch 89/100\n",
            "11/11 [==============================] - 0s 6ms/step - loss: 7.9494 - val_loss: 14.2387\n",
            "Epoch 90/100\n",
            "11/11 [==============================] - 0s 5ms/step - loss: 7.9815 - val_loss: 13.9188\n",
            "Epoch 91/100\n",
            "11/11 [==============================] - 0s 5ms/step - loss: 7.9379 - val_loss: 14.1023\n",
            "Epoch 92/100\n",
            "11/11 [==============================] - 0s 7ms/step - loss: 7.7541 - val_loss: 14.0987\n",
            "Epoch 93/100\n",
            "11/11 [==============================] - 0s 10ms/step - loss: 7.7417 - val_loss: 14.2022\n",
            "Epoch 94/100\n",
            "11/11 [==============================] - 0s 7ms/step - loss: 7.7088 - val_loss: 14.0990\n",
            "Epoch 95/100\n",
            "11/11 [==============================] - 0s 7ms/step - loss: 7.7680 - val_loss: 14.2095\n",
            "Epoch 96/100\n",
            "11/11 [==============================] - 0s 8ms/step - loss: 7.6806 - val_loss: 14.6045\n",
            "Epoch 97/100\n",
            "11/11 [==============================] - 0s 10ms/step - loss: 7.6960 - val_loss: 14.8813\n",
            "Epoch 98/100\n",
            "11/11 [==============================] - 0s 8ms/step - loss: 7.6751 - val_loss: 14.1966\n",
            "Epoch 99/100\n",
            "11/11 [==============================] - 0s 11ms/step - loss: 7.7457 - val_loss: 15.6033\n",
            "Epoch 100/100\n",
            "11/11 [==============================] - 0s 8ms/step - loss: 7.8042 - val_loss: 14.4165\n"
          ]
        }
      ]
    },
    {
      "cell_type": "code",
      "source": [
        "# Make predictions on the test set\n",
        "y_pred = model.predict(X_test)\n",
        "\n",
        "# Calculate the mean squared error\n",
        "mse = mean_squared_error(y_test, y_pred)\n",
        "print(\"Mean Squared Error:\", mse)"
      ],
      "metadata": {
        "colab": {
          "base_uri": "https://localhost:8080/"
        },
        "id": "Hrt4Ftg5Z7yf",
        "outputId": "0a5e11de-1ad6-470d-872e-f8ac11eafdc5"
      },
      "execution_count": null,
      "outputs": [
        {
          "output_type": "stream",
          "name": "stdout",
          "text": [
            "4/4 [==============================] - 0s 4ms/step\n",
            "Mean Squared Error: 23.351727948430906\n"
          ]
        }
      ]
    }
  ]
}